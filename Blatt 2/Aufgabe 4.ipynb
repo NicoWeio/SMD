{
 "cells": [
  {
   "cell_type": "markdown",
   "id": "0dc9541c",
   "metadata": {},
   "source": [
    "# Vorbemerkungen\n",
    "Um das Problem numerisch anzugehen, muss bei einer endlichen Geschwindigkeit abgebrochen werden. Wir tun dies bei $v=100$, da $f(v)$ dort vernachlässigbar klein wird.\n",
    "\n",
    "\n",
    "$f(v)$ ist für $v<0$ einfach 0, bzw. nicht definiert, da die *betragsmäßige* Geschwindigkeit betrachtet wird!\n",
    "\n",
    "\n",
    "Die Normierungskonstante haben wir bestimmt zu:\n",
    "$$ N = \\frac{1}{4\\sqrt{2}} \\left(\\frac{m}{\\pi k_\\text{B} T}\\right)^{3/2} $$ (siehe PDF)\n",
    "\n",
    "---\n",
    "\n",
    "Um ein sinnvolles Jupyter-Notebook zu erstellen, wurden die Ergebnisse nicht ganz wie gefordert als Funktion von $m$ und $T$ bzw. $v_m$ dargestellt. In einer der folgenden Zellen lassen sich dafür $m$ und $T$ frei wählen.\n",
    "\n",
    "Es ist offensichtlich, dass einige der folgenden Berechnungen fehlerhaft sind. Leider fehlte die Zeit, um diese näher zu untersuchen. "
   ]
  },
  {
   "cell_type": "code",
   "execution_count": null,
   "id": "4e8234e6",
   "metadata": {},
   "outputs": [],
   "source": [
    "import numpy as np\n",
    "import scipy as sp\n",
    "import scipy.signal\n",
    "import matplotlib.pyplot as plt"
   ]
  },
  {
   "cell_type": "code",
   "execution_count": null,
   "id": "349dcc85",
   "metadata": {},
   "outputs": [],
   "source": [
    "k_B = 1.381e-23\n",
    "m = 3e-23 # Test\n",
    "T = 293.15 # Test\n",
    "#N = (m / (np.pi * k_B * T))**(3/2) / (4 * 2**.5) # wie im PDF v1\n",
    "N = (m / (2 * np.pi * k_B * T))**(3/2) # wie im PDF v1\n",
    "#N = (m / (np.pi * k_B * T))**(3/2) / (2 * 2**.5) # so stimmt die Normierung, s.u."
   ]
  },
  {
   "cell_type": "code",
   "execution_count": null,
   "id": "3df42684",
   "metadata": {},
   "outputs": [],
   "source": [
    "def f(v):\n",
    "    return N * np.exp(- (m * v**2)/(2 * k_B * T)) * 4 * np.pi * v**2"
   ]
  },
  {
   "cell_type": "code",
   "execution_count": null,
   "id": "03dc5297",
   "metadata": {
    "scrolled": true
   },
   "outputs": [],
   "source": [
    "num_count = 1000000\n",
    "v_linspace = np.linspace(0, 100, num_count)\n",
    "resolution = 100 / num_count\n",
    "f_vals = f(v_linspace)"
   ]
  },
  {
   "cell_type": "markdown",
   "id": "b25caade",
   "metadata": {},
   "source": [
    "Für unsere Obergrenze für $v$ sollte $f(v)$ hinreichend klein sein:"
   ]
  },
  {
   "cell_type": "code",
   "execution_count": null,
   "id": "f30df15b",
   "metadata": {},
   "outputs": [],
   "source": [
    "assert f_vals[-1] < 1e-10\n",
    "f_vals[-1]"
   ]
  },
  {
   "cell_type": "markdown",
   "id": "ea4660f2",
   "metadata": {},
   "source": [
    "Das Integral über $\\mathbb{R}^+$ sollte 1 geben:"
   ]
  },
  {
   "cell_type": "code",
   "execution_count": null,
   "id": "1e9f896f",
   "metadata": {},
   "outputs": [],
   "source": [
    "full_int = sp.integrate.quad(f, 0, np.inf)[0]\n",
    "assert np.isclose(full_int, 1)"
   ]
  },
  {
   "cell_type": "markdown",
   "id": "15db56f6",
   "metadata": {},
   "source": [
    "## (a) die wahrscheinlichste Geschwindigkeit $v_m$\n",
    "Weil die Wahrscheinlichkeitsdichte-Funktion stetig etc. ist, können wir annehmen, dass die wahrscheinlichste Geschwindigkeit diejenige ist, unter welcher die Wahrscheinlichkeitsdichte maximal ist. \n",
    "Dennoch sei darauf hingewiesen, dass die Wahrscheinlichkeit für einen präzisen Wert immer 0 ist!"
   ]
  },
  {
   "cell_type": "code",
   "execution_count": null,
   "id": "9180d818",
   "metadata": {},
   "outputs": [],
   "source": [
    "v_peak_index = np.argmax(f_vals)\n",
    "v_peak = v_peak_index * resolution\n",
    "v_peak"
   ]
  },
  {
   "cell_type": "code",
   "execution_count": null,
   "id": "f84b9d5b",
   "metadata": {},
   "outputs": [],
   "source": [
    "v_peak_theo = np.sqrt(2*k_B*T / m)\n",
    "v_peak_theo"
   ]
  },
  {
   "cell_type": "markdown",
   "id": "9906eab2",
   "metadata": {},
   "source": [
    "## (b) der Mittelwert der Geschwindigkeit $\\langle v \\rangle$"
   ]
  },
  {
   "cell_type": "code",
   "execution_count": null,
   "id": "a4f92559",
   "metadata": {
    "scrolled": false
   },
   "outputs": [],
   "source": [
    "#TODO\n",
    "sp.ndimage.median(f_vals)"
   ]
  },
  {
   "cell_type": "code",
   "execution_count": null,
   "id": "49fa908e",
   "metadata": {},
   "outputs": [],
   "source": [
    "v_median_theo = 2*np.sqrt(np.pi)*v_peak_theo # !?\n",
    "v_median_theo"
   ]
  },
  {
   "cell_type": "markdown",
   "id": "8dba378a",
   "metadata": {},
   "source": [
    "## (c) der Median der Geschwindigkeit $v_{0.5}$"
   ]
  },
  {
   "cell_type": "code",
   "execution_count": null,
   "id": "f2a11f94",
   "metadata": {},
   "outputs": [],
   "source": [
    "# solange ich keine SciPy-Methode finde, tut's auch BruteForce :P\n",
    "for v in v_linspace:\n",
    "    result = sp.integrate.quad(f, 0, v)[0]\n",
    "    if result > 0.5:\n",
    "        v_median = v\n",
    "        break\n",
    "\n",
    "v_median"
   ]
  },
  {
   "cell_type": "markdown",
   "id": "f264e29f",
   "metadata": {},
   "source": [
    "## (d) die volle Breite auf halber Höhe der Verteilung ($v_\\text{FWHM}$ )"
   ]
  },
  {
   "cell_type": "code",
   "execution_count": null,
   "id": "f51d9215",
   "metadata": {
    "scrolled": true
   },
   "outputs": [],
   "source": [
    "peaks, _ = sp.signal.find_peaks(f_vals)\n",
    "widths, width_heights, left_ips, right_ips = sp.signal.peak_widths(f_vals, peaks, rel_height=0.5)\n",
    "#widths, width_heights, left_ips, right_ips = sp.signal.peak_widths(f_vals, [v_peak], rel_height=0.5)\n",
    "\n",
    "v_FWHM = widths[0] * resolution\n",
    "v_FWHM"
   ]
  },
  {
   "cell_type": "markdown",
   "id": "9be24902",
   "metadata": {},
   "source": [
    "## (e) die Standardabweichung der Geschwindigkeit $\\sigma_v$"
   ]
  },
  {
   "cell_type": "code",
   "execution_count": null,
   "id": "c95f3e61",
   "metadata": {},
   "outputs": [],
   "source": [
    "μ = sp.integrate.quad(lambda v: v*f(v), 0, np.inf)[0]\n",
    "print(\"Erwartungswert\", μ)\n",
    "\n",
    "def var_integrand(v):\n",
    "    return (v-μ)**2 * f(v)\n",
    "\n",
    "variance = sp.integrate.quad(var_integrand, 0, np.inf)[0]\n",
    "std_dev = np.sqrt(variance)\n",
    "std_dev"
   ]
  },
  {
   "cell_type": "code",
   "execution_count": null,
   "id": "6a76e45a",
   "metadata": {},
   "outputs": [],
   "source": [
    "std_dev_theo = 4*np.pi*v_peak_theo**2\n",
    "std_dev_theo"
   ]
  },
  {
   "cell_type": "markdown",
   "id": "298fa4ba",
   "metadata": {},
   "source": [
    "## …und aus alledem ein Plot…"
   ]
  },
  {
   "cell_type": "code",
   "execution_count": null,
   "id": "dbc76353",
   "metadata": {
    "scrolled": false
   },
   "outputs": [],
   "source": [
    "plt.figure()\n",
    "plt.plot(v_linspace, f_vals, label='Wahrscheinlichkeitsdichte')\n",
    "plt.plot(v_peak, f_vals[v_peak_index], 'x', color='orange', label='Peak')\n",
    "plt.hlines(width_heights, left_ips * resolution, right_ips * resolution, color='red', label='FWHM')\n",
    "plt.axvline(v_median, color='green', label='Median')\n",
    "plt.legend()\n",
    "None"
   ]
  }
 ],
 "metadata": {
  "kernelspec": {
   "display_name": "Python 3",
   "language": "python",
   "name": "python3"
  },
  "language_info": {
   "codemirror_mode": {
    "name": "ipython",
    "version": 3
   },
   "file_extension": ".py",
   "mimetype": "text/x-python",
   "name": "python",
   "nbconvert_exporter": "python",
   "pygments_lexer": "ipython3",
   "version": "3.9.4"
  }
 },
 "nbformat": 4,
 "nbformat_minor": 5
}
