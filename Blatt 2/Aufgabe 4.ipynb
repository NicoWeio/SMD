{
 "cells": [
  {
   "cell_type": "markdown",
   "id": "209feb3c",
   "metadata": {},
   "source": [
    "# Vorbemerkungen\n",
    "Um das Problem numerisch anzugehen, muss bei einer endlichen Geschwindigkeit abgebrochen werden. Wir tun dies bei $v=100$, da $f(v)$ dort vernachlässigbar klein wird.\n",
    "\n",
    "\n",
    "$f(v)$ ist für $v<0$ einfach 0, bzw. nicht definiert, da die *betragsmäßige* Geschwindigkeit betrachtet wird!\n",
    "\n",
    "\n",
    "Die Normierungskonstante haben wir bestimmt zu:\n",
    "$$ N = \\frac{1}{4\\sqrt{2}} \\left(\\frac{m}{\\pi k_\\text{B} T}\\right)^{3/2} $$ (siehe PDF)"
   ]
  },
  {
   "cell_type": "code",
   "execution_count": 1,
   "id": "cfe50fab",
   "metadata": {},
   "outputs": [],
   "source": [
    "import numpy as np\n",
    "import scipy as sp\n",
    "import scipy.signal\n",
    "import matplotlib.pyplot as plt"
   ]
  },
  {
   "cell_type": "code",
   "execution_count": 2,
   "id": "e4f936ed",
   "metadata": {},
   "outputs": [],
   "source": [
    "def f(v):\n",
    "    k_B = 1.381e-23\n",
    "    m = 3e-23 # Test\n",
    "    T = 293.15 # Test\n",
    "    #N = (m / (np.pi * k_B * T))**(3/2) / (4 * 2**.5) # wie im PDF\n",
    "    N = (m / (np.pi * k_B * T))**(3/2) / (2 * 2**.5) # so stimmt die Normierung, s.u.\n",
    "    return N * np.exp(- (m * v**2)/(2 * k_B * T)) * 4 * np.pi * v**2"
   ]
  },
  {
   "cell_type": "code",
   "execution_count": 3,
   "id": "36557644",
   "metadata": {
    "scrolled": true
   },
   "outputs": [],
   "source": [
    "num_count = 1000000\n",
    "v_linspace = np.linspace(0, 100, num_count)\n",
    "resolution = 100 / num_count\n",
    "f_vals = f(v_linspace)"
   ]
  },
  {
   "cell_type": "markdown",
   "id": "12aba8de",
   "metadata": {},
   "source": [
    "Für unsere Obergrenze für $v$ sollte $f(v)$ hinreichend klein sein:"
   ]
  },
  {
   "cell_type": "code",
   "execution_count": 4,
   "id": "cca105fc",
   "metadata": {},
   "outputs": [
    {
     "data": {
      "text/plain": [
       "4.124436836762571e-16"
      ]
     },
     "execution_count": 4,
     "metadata": {},
     "output_type": "execute_result"
    }
   ],
   "source": [
    "assert f_vals[-1] < 1e-10\n",
    "f_vals[-1]"
   ]
  },
  {
   "cell_type": "markdown",
   "id": "19131fd1",
   "metadata": {},
   "source": [
    "Das Integral über $\\mathbb{R}^+$ sollte 1 geben:"
   ]
  },
  {
   "cell_type": "code",
   "execution_count": 5,
   "id": "d9a08f40",
   "metadata": {},
   "outputs": [],
   "source": [
    "full_int = sp.integrate.quad(f, 0, np.inf)[0]\n",
    "assert np.isclose(full_int, 1)"
   ]
  },
  {
   "cell_type": "markdown",
   "id": "d7e5fddb",
   "metadata": {},
   "source": [
    "## (a) die wahrscheinlichste Geschwindigkeit $v_m$\n",
    "Weil die Wahrscheinlichkeitsdichte-Funktion stetig etc. ist, können wir annehmen, dass die wahrscheinlichste Geschwindigkeit diejenige ist, unter welcher die Wahrscheinlichkeitsdichte maximal ist. \n",
    "Dennoch sei darauf hingewiesen, dass die Wahrscheinlichkeit für einen präzisen Wert immer 0 ist!"
   ]
  },
  {
   "cell_type": "code",
   "execution_count": 6,
   "id": "fe8e6af7",
   "metadata": {},
   "outputs": [
    {
     "data": {
      "text/plain": [
       "16.4284"
      ]
     },
     "execution_count": 6,
     "metadata": {},
     "output_type": "execute_result"
    }
   ],
   "source": [
    "v_peak_index = np.argmax(f_vals)\n",
    "v_peak = v_peak_index * resolution\n",
    "v_peak"
   ]
  },
  {
   "cell_type": "markdown",
   "id": "20ec8837",
   "metadata": {},
   "source": [
    "## (b) der Mittelwert der Geschwindigkeit $\\langle v \\rangle$"
   ]
  },
  {
   "cell_type": "code",
   "execution_count": 7,
   "id": "24bfdb6b",
   "metadata": {
    "scrolled": true
   },
   "outputs": [
    {
     "data": {
      "text/plain": [
       "0.00010388640880553006"
      ]
     },
     "execution_count": 7,
     "metadata": {},
     "output_type": "execute_result"
    }
   ],
   "source": [
    "#TODO\n",
    "sp.ndimage.median(f_vals)"
   ]
  },
  {
   "cell_type": "markdown",
   "id": "29152937",
   "metadata": {},
   "source": [
    "## (c) der Median der Geschwindigkeit $v_{0.5}$"
   ]
  },
  {
   "cell_type": "code",
   "execution_count": 8,
   "id": "9f4a9001",
   "metadata": {},
   "outputs": [
    {
     "data": {
      "text/plain": [
       "17.86851786851787"
      ]
     },
     "execution_count": 8,
     "metadata": {},
     "output_type": "execute_result"
    }
   ],
   "source": [
    "# solange ich keine SciPy-Methode finde, tut's auch BruteForce :P\n",
    "for v in v_linspace:\n",
    "    result = sp.integrate.quad(f, 0, v)[0]\n",
    "    if result > 0.5:\n",
    "        v_median = v\n",
    "        break\n",
    "\n",
    "v_median"
   ]
  },
  {
   "cell_type": "markdown",
   "id": "82d5e68f",
   "metadata": {},
   "source": [
    "## (d) die volle Breite auf halber Höhe der Verteilung ($v_\\text{FWHM}$ )"
   ]
  },
  {
   "cell_type": "code",
   "execution_count": 9,
   "id": "e48b5119",
   "metadata": {
    "scrolled": true
   },
   "outputs": [
    {
     "data": {
      "text/plain": [
       "18.973875001224982"
      ]
     },
     "execution_count": 9,
     "metadata": {},
     "output_type": "execute_result"
    }
   ],
   "source": [
    "peaks, _ = sp.signal.find_peaks(f_vals)\n",
    "widths, width_heights, left_ips, right_ips = sp.signal.peak_widths(f_vals, peaks, rel_height=0.5)\n",
    "#widths, width_heights, left_ips, right_ips = sp.signal.peak_widths(f_vals, [v_peak], rel_height=0.5)\n",
    "\n",
    "v_FWHM = widths[0] * resolution\n",
    "v_FWHM"
   ]
  },
  {
   "cell_type": "markdown",
   "id": "967d7f63",
   "metadata": {},
   "source": [
    "## (e) die Standardabweichung der Geschwindigkeit $\\sigma_v$"
   ]
  },
  {
   "cell_type": "code",
   "execution_count": 10,
   "id": "650fdb93",
   "metadata": {},
   "outputs": [],
   "source": [
    "#TODO"
   ]
  },
  {
   "cell_type": "markdown",
   "id": "5afb7082",
   "metadata": {},
   "source": [
    "## …und aus alledem ein Plot…"
   ]
  },
  {
   "cell_type": "code",
   "execution_count": 11,
   "id": "eec7c8a5",
   "metadata": {
    "scrolled": false
   },
   "outputs": [
    {
     "data": {
      "text/plain": [
       "<matplotlib.legend.Legend at 0x7f053005c820>"
      ]
     },
     "execution_count": 11,
     "metadata": {},
     "output_type": "execute_result"
    },
    {
     "data": {
      "image/png": "[encoded data removed]",
      "text/plain": [
       "<Figure size 432x288 with 1 Axes>"
      ]
     },
     "metadata": {
      "needs_background": "light"
     },
     "output_type": "display_data"
    }
   ],
   "source": [
    "plt.figure()\n",
    "plt.plot(v_linspace, f_vals, label='Wahrscheinlichkeitsdichte')\n",
    "plt.plot(v_peak, f_vals[v_peak_index], 'x', color='orange', label='Peak')\n",
    "plt.hlines(width_heights, left_ips * resolution, right_ips * resolution, color='red', label='FWHM')\n",
    "plt.axvline(v_median, color='green', label='Median')\n",
    "plt.legend()"
   ]
  }
 ],
 "metadata": {
  "kernelspec": {
   "display_name": "Python 3",
   "language": "python",
   "name": "python3"
  },
  "language_info": {
   "codemirror_mode": {
    "name": "ipython",
    "version": 3
   },
   "file_extension": ".py",
   "mimetype": "text/x-python",
   "name": "python",
   "nbconvert_exporter": "python",
   "pygments_lexer": "ipython3",
   "version": "3.9.4"
  }
 },
 "nbformat": 4,
 "nbformat_minor": 5
}
